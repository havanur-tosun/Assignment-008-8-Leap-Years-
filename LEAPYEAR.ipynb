{
  "nbformat": 4,
  "nbformat_minor": 0,
  "metadata": {
    "colab": {
      "name": "LEAPYEAR",
      "provenance": [],
      "authorship_tag": "ABX9TyP0CwVx053WNy4k2FYJj+w4",
      "include_colab_link": true
    },
    "kernelspec": {
      "name": "python3",
      "display_name": "Python 3"
    },
    "language_info": {
      "name": "python"
    }
  },
  "cells": [
    {
      "cell_type": "markdown",
      "metadata": {
        "id": "view-in-github",
        "colab_type": "text"
      },
      "source": [
        "<a href=\"https://colab.research.google.com/github/havanur-tosun/Assignment-008-8-Leap-Years-/blob/main/LEAPYEAR.ipynb\" target=\"_parent\"><img src=\"https://colab.research.google.com/assets/colab-badge.svg\" alt=\"Open In Colab\"/></a>"
      ]
    },
    {
      "cell_type": "code",
      "metadata": {
        "colab": {
          "base_uri": "https://localhost:8080/"
        },
        "id": "oskWt4y80qCh",
        "outputId": "8895d0d9-675f-4813-c97f-942d1e52b2c3"
      },
      "source": [
        "year = int(input('Please enter the year: '))\n",
        "\n",
        "if (year % 4) == 0:\n",
        "   if (year % 100) == 0:\n",
        "       if (year % 400) == 0:\n",
        "           print(\"{} is a leap year\".format(year))\n",
        "       else:\n",
        "           print(\"{} is not a leap year\".format(year))\n",
        "   else:\n",
        "       print(\"{} is a leap year\".format(year))\n",
        "else:\n",
        "   print(\"{} is not a leap year\".format(year))"
      ],
      "execution_count": 10,
      "outputs": [
        {
          "output_type": "stream",
          "text": [
            "Please enter the year: 1800\n",
            "1800 is not a leap year\n"
          ],
          "name": "stdout"
        }
      ]
    }
  ]
}